{
  "nbformat": 4,
  "nbformat_minor": 0,
  "metadata": {
    "colab": {
      "name": "ПЗ_11",
      "provenance": [],
      "authorship_tag": "ABX9TyOorVINgzPgBALRfEyQqQSs",
      "include_colab_link": true
    },
    "kernelspec": {
      "name": "python3",
      "display_name": "Python 3"
    },
    "language_info": {
      "name": "python"
    }
  },
  "cells": [
    {
      "cell_type": "markdown",
      "metadata": {
        "id": "view-in-github",
        "colab_type": "text"
      },
      "source": [
        "<a href=\"https://colab.research.google.com/github/IvanKraynev/Proj_1sem_Kraynev/blob/master/%D0%9F%D0%97_11.ipynb\" target=\"_parent\"><img src=\"https://colab.research.google.com/assets/colab-badge.svg\" alt=\"Open In Colab\"/></a>"
      ]
    },
    {
      "cell_type": "markdown",
      "source": [
        "ПЗ_3"
      ],
      "metadata": {
        "id": "OJ2bNs6I6mtV"
      }
    },
    {
      "cell_type": "code",
      "execution_count": 1,
      "metadata": {
        "colab": {
          "base_uri": "https://localhost:8080/"
        },
        "id": "WyCgeb4L5wv3",
        "outputId": "967f3995-e9c7-429a-bdda-dbf4324d3728"
      },
      "outputs": [
        {
          "output_type": "stream",
          "name": "stdout",
          "text": [
            "Введите первое число: 5\n",
            "Введите второе число: 2\n",
            "5\n"
          ]
        }
      ],
      "source": [
        "# Даны два числа. Вывести большее из них.\n",
        "\n",
        "a, b = input('Введите первое число: '), input('Введите второе число: ')\n",
        "\n",
        "while type(a) != int: # обработка исключений\n",
        "    try:\n",
        "        a = int(a)\n",
        "    except ValueError:\n",
        "        print('Неправильно ввели!')\n",
        "        a = input('Введите первое число: ')\n",
        "\n",
        "while type(b) != int: # обработка исключений\n",
        "    try:\n",
        "        b = int(b)\n",
        "    except ValueError:\n",
        "        print('Неправильно ввели!')\n",
        "        b = input('Введите второе число: ')\n",
        "\n",
        "if a > b:\n",
        "    print(a)\n",
        "else:\n",
        "    print(b)"
      ]
    },
    {
      "cell_type": "markdown",
      "source": [
        "ПЗ_4"
      ],
      "metadata": {
        "id": "wZG9gZM46vXQ"
      }
    },
    {
      "cell_type": "code",
      "source": [
        "# Дано вещественное число X (|X|<1) и целое число N (>0).\n",
        "# Найти значение выражения X - X3/3 + X5/5 - ... + (-1)NX2N + 1/(2N + 1).\n",
        "# Полученное число является приближенным значением функции arctg в точке X.\n",
        "\n",
        "x = float(input('Введите вещественное число: '))\n",
        "n = int(input('Введите целое число: '))\n",
        "\n",
        "x = input(\"Введите число x: \")\n",
        "while type(x) != float:                                 # обработка исключений\n",
        "    try:\n",
        "        x = float(x)\n",
        "    except ValueError:\n",
        "        print(\"Введите снова!\")\n",
        "        x = input(\"Введите вещественное число: \")\n",
        "while abs(x) >= 1:                                      # обработка исключений\n",
        "    x = input(\"Введите число меньше единицы по модулю: \")\n",
        "while type(x) != float:\n",
        "    try:\n",
        "        x = float(x)\n",
        "    except ValueError:\n",
        "        print(\"Введите снова!\")\n",
        "        x = input(\"Введите вещественное число: \")\n",
        "while type(n) != int:                                   # обработка исключений\n",
        "    try:\n",
        "        n = int(n)\n",
        "    except ValueError:\n",
        "        print(\"Неправильно ввели!\")\n",
        "        n = input(\"Введите целое число: \")\n",
        "\n",
        "i = 2                                          # степень числа\n",
        "sum = 0\n",
        "while n > 0:\n",
        "    m = x ** (2 * n + 1) / (2 * n + 1)         # основное действие\n",
        "    m *= (-1) ** i\n",
        "    sum += m\n",
        "    n -= 1\n",
        "    i += 1\n",
        "sum *= (-1) ** n\n",
        "x = x + sum\n",
        "print(x)"
      ],
      "metadata": {
        "colab": {
          "base_uri": "https://localhost:8080/"
        },
        "id": "E7qrc4w-6vGF",
        "outputId": "6965a09f-d0ae-41ad-e409-0c71fc66fe96"
      },
      "execution_count": 5,
      "outputs": [
        {
          "output_type": "stream",
          "name": "stdout",
          "text": [
            "Введите вещественное число: 0.5\n",
            "Введите целое число: 2\n",
            "Введите число x: 0.5\n",
            "0.46458333333333335\n"
          ]
        }
      ]
    },
    {
      "cell_type": "markdown",
      "source": [
        "ПЗ_5"
      ],
      "metadata": {
        "id": "5SQI1YTM9TBJ"
      }
    },
    {
      "cell_type": "code",
      "source": [
        "# Найти сумму чисел ряда 1,2,3,...,60 с использованием функции нахождения суммы.\n",
        "# Использовать локальные переменные.\n",
        "\n",
        "def summa():\n",
        "    res = 0\n",
        "    sum1 = 0\n",
        "    while sum1 < 60:\n",
        "        sum1 += 1\n",
        "        res += sum1\n",
        "    print(res)\n",
        "summa()"
      ],
      "metadata": {
        "colab": {
          "base_uri": "https://localhost:8080/"
        },
        "id": "Anf2QnH89TNI",
        "outputId": "16f15da0-96e4-45f0-957c-c09e57080d2d"
      },
      "execution_count": 6,
      "outputs": [
        {
          "output_type": "stream",
          "name": "stdout",
          "text": [
            "1830\n"
          ]
        }
      ]
    }
  ]
}